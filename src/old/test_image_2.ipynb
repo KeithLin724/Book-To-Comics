{
 "cells": [
  {
   "cell_type": "code",
   "execution_count": 1,
   "metadata": {},
   "outputs": [
    {
     "name": "stdout",
     "output_type": "stream",
     "text": [
      "Requirement already satisfied: diffusers in c:\\users\\vince\\anaconda3\\envs\\py311\\lib\\site-packages (0.21.4)\n",
      "Requirement already satisfied: Pillow in c:\\users\\vince\\anaconda3\\envs\\py311\\lib\\site-packages (from diffusers) (9.3.0)\n",
      "Requirement already satisfied: filelock in c:\\users\\vince\\anaconda3\\envs\\py311\\lib\\site-packages (from diffusers) (3.12.0)\n",
      "Requirement already satisfied: huggingface-hub>=0.13.2 in c:\\users\\vince\\anaconda3\\envs\\py311\\lib\\site-packages (from diffusers) (0.17.3)\n",
      "Requirement already satisfied: importlib-metadata in c:\\users\\vince\\anaconda3\\envs\\py311\\lib\\site-packages (from diffusers) (6.6.0)\n",
      "Requirement already satisfied: numpy in c:\\users\\vince\\anaconda3\\envs\\py311\\lib\\site-packages (from diffusers) (1.24.1)\n",
      "Requirement already satisfied: regex!=2019.12.17 in c:\\users\\vince\\anaconda3\\envs\\py311\\lib\\site-packages (from diffusers) (2023.6.3)\n",
      "Requirement already satisfied: requests in c:\\users\\vince\\anaconda3\\envs\\py311\\lib\\site-packages (from diffusers) (2.28.1)\n",
      "Requirement already satisfied: safetensors>=0.3.1 in c:\\users\\vince\\anaconda3\\envs\\py311\\lib\\site-packages (from diffusers) (0.4.0)\n",
      "Requirement already satisfied: fsspec in c:\\users\\vince\\anaconda3\\envs\\py311\\lib\\site-packages (from huggingface-hub>=0.13.2->diffusers) (2023.9.2)\n",
      "Requirement already satisfied: tqdm>=4.42.1 in c:\\users\\vince\\anaconda3\\envs\\py311\\lib\\site-packages (from huggingface-hub>=0.13.2->diffusers) (4.65.0)\n",
      "Requirement already satisfied: pyyaml>=5.1 in c:\\users\\vince\\anaconda3\\envs\\py311\\lib\\site-packages (from huggingface-hub>=0.13.2->diffusers) (6.0)\n",
      "Requirement already satisfied: typing-extensions>=3.7.4.3 in c:\\users\\vince\\anaconda3\\envs\\py311\\lib\\site-packages (from huggingface-hub>=0.13.2->diffusers) (4.4.0)\n",
      "Requirement already satisfied: packaging>=20.9 in c:\\users\\vince\\anaconda3\\envs\\py311\\lib\\site-packages (from huggingface-hub>=0.13.2->diffusers) (23.1)\n",
      "Requirement already satisfied: zipp>=0.5 in c:\\users\\vince\\anaconda3\\envs\\py311\\lib\\site-packages (from importlib-metadata->diffusers) (3.15.0)\n",
      "Requirement already satisfied: charset-normalizer<3,>=2 in c:\\users\\vince\\anaconda3\\envs\\py311\\lib\\site-packages (from requests->diffusers) (2.1.1)\n",
      "Requirement already satisfied: idna<4,>=2.5 in c:\\users\\vince\\anaconda3\\envs\\py311\\lib\\site-packages (from requests->diffusers) (3.4)\n",
      "Requirement already satisfied: urllib3<1.27,>=1.21.1 in c:\\users\\vince\\anaconda3\\envs\\py311\\lib\\site-packages (from requests->diffusers) (1.26.13)\n",
      "Requirement already satisfied: certifi>=2017.4.17 in c:\\users\\vince\\anaconda3\\envs\\py311\\lib\\site-packages (from requests->diffusers) (2022.12.7)\n",
      "Requirement already satisfied: colorama in c:\\users\\vince\\appdata\\roaming\\python\\python311\\site-packages (from tqdm>=4.42.1->huggingface-hub>=0.13.2->diffusers) (0.4.6)\n"
     ]
    }
   ],
   "source": [
    "!pip install diffusers"
   ]
  },
  {
   "cell_type": "code",
   "execution_count": 2,
   "metadata": {},
   "outputs": [
    {
     "name": "stdout",
     "output_type": "stream",
     "text": [
      "Requirement already satisfied: transformers in c:\\users\\vince\\anaconda3\\envs\\py311\\lib\\site-packages (4.34.1)\n",
      "Requirement already satisfied: filelock in c:\\users\\vince\\anaconda3\\envs\\py311\\lib\\site-packages (from transformers) (3.12.0)\n",
      "Requirement already satisfied: huggingface-hub<1.0,>=0.16.4 in c:\\users\\vince\\anaconda3\\envs\\py311\\lib\\site-packages (from transformers) (0.17.3)\n",
      "Requirement already satisfied: numpy>=1.17 in c:\\users\\vince\\anaconda3\\envs\\py311\\lib\\site-packages (from transformers) (1.24.1)\n",
      "Requirement already satisfied: packaging>=20.0 in c:\\users\\vince\\anaconda3\\envs\\py311\\lib\\site-packages (from transformers) (23.1)\n",
      "Requirement already satisfied: pyyaml>=5.1 in c:\\users\\vince\\anaconda3\\envs\\py311\\lib\\site-packages (from transformers) (6.0)\n",
      "Requirement already satisfied: regex!=2019.12.17 in c:\\users\\vince\\anaconda3\\envs\\py311\\lib\\site-packages (from transformers) (2023.6.3)\n",
      "Requirement already satisfied: requests in c:\\users\\vince\\anaconda3\\envs\\py311\\lib\\site-packages (from transformers) (2.28.1)\n",
      "Requirement already satisfied: tokenizers<0.15,>=0.14 in c:\\users\\vince\\anaconda3\\envs\\py311\\lib\\site-packages (from transformers) (0.14.1)\n",
      "Requirement already satisfied: safetensors>=0.3.1 in c:\\users\\vince\\anaconda3\\envs\\py311\\lib\\site-packages (from transformers) (0.4.0)\n",
      "Requirement already satisfied: tqdm>=4.27 in c:\\users\\vince\\anaconda3\\envs\\py311\\lib\\site-packages (from transformers) (4.65.0)\n",
      "Requirement already satisfied: fsspec in c:\\users\\vince\\anaconda3\\envs\\py311\\lib\\site-packages (from huggingface-hub<1.0,>=0.16.4->transformers) (2023.9.2)\n",
      "Requirement already satisfied: typing-extensions>=3.7.4.3 in c:\\users\\vince\\anaconda3\\envs\\py311\\lib\\site-packages (from huggingface-hub<1.0,>=0.16.4->transformers) (4.4.0)\n",
      "Requirement already satisfied: colorama in c:\\users\\vince\\appdata\\roaming\\python\\python311\\site-packages (from tqdm>=4.27->transformers) (0.4.6)\n",
      "Requirement already satisfied: charset-normalizer<3,>=2 in c:\\users\\vince\\anaconda3\\envs\\py311\\lib\\site-packages (from requests->transformers) (2.1.1)\n",
      "Requirement already satisfied: idna<4,>=2.5 in c:\\users\\vince\\anaconda3\\envs\\py311\\lib\\site-packages (from requests->transformers) (3.4)\n",
      "Requirement already satisfied: urllib3<1.27,>=1.21.1 in c:\\users\\vince\\anaconda3\\envs\\py311\\lib\\site-packages (from requests->transformers) (1.26.13)\n",
      "Requirement already satisfied: certifi>=2017.4.17 in c:\\users\\vince\\anaconda3\\envs\\py311\\lib\\site-packages (from requests->transformers) (2022.12.7)\n"
     ]
    }
   ],
   "source": [
    "!pip install transformers"
   ]
  },
  {
   "cell_type": "code",
   "execution_count": 3,
   "metadata": {},
   "outputs": [
    {
     "name": "stdout",
     "output_type": "stream",
     "text": [
      "Requirement already satisfied: accelerate in c:\\users\\vince\\anaconda3\\envs\\py311\\lib\\site-packages (0.23.0)\n",
      "Requirement already satisfied: numpy>=1.17 in c:\\users\\vince\\anaconda3\\envs\\py311\\lib\\site-packages (from accelerate) (1.24.1)\n",
      "Requirement already satisfied: packaging>=20.0 in c:\\users\\vince\\anaconda3\\envs\\py311\\lib\\site-packages (from accelerate) (23.1)\n",
      "Requirement already satisfied: psutil in c:\\users\\vince\\appdata\\roaming\\python\\python311\\site-packages (from accelerate) (5.9.4)\n",
      "Requirement already satisfied: pyyaml in c:\\users\\vince\\anaconda3\\envs\\py311\\lib\\site-packages (from accelerate) (6.0)\n",
      "Requirement already satisfied: torch>=1.10.0 in c:\\users\\vince\\anaconda3\\envs\\py311\\lib\\site-packages (from accelerate) (2.0.1+cu117)\n",
      "Requirement already satisfied: huggingface-hub in c:\\users\\vince\\anaconda3\\envs\\py311\\lib\\site-packages (from accelerate) (0.17.3)\n",
      "Requirement already satisfied: filelock in c:\\users\\vince\\anaconda3\\envs\\py311\\lib\\site-packages (from torch>=1.10.0->accelerate) (3.12.0)\n",
      "Requirement already satisfied: typing-extensions in c:\\users\\vince\\anaconda3\\envs\\py311\\lib\\site-packages (from torch>=1.10.0->accelerate) (4.4.0)\n",
      "Requirement already satisfied: sympy in c:\\users\\vince\\anaconda3\\envs\\py311\\lib\\site-packages (from torch>=1.10.0->accelerate) (1.12)\n",
      "Requirement already satisfied: networkx in c:\\users\\vince\\anaconda3\\envs\\py311\\lib\\site-packages (from torch>=1.10.0->accelerate) (3.0)\n",
      "Requirement already satisfied: jinja2 in c:\\users\\vince\\anaconda3\\envs\\py311\\lib\\site-packages (from torch>=1.10.0->accelerate) (3.1.2)\n",
      "Requirement already satisfied: fsspec in c:\\users\\vince\\anaconda3\\envs\\py311\\lib\\site-packages (from huggingface-hub->accelerate) (2023.9.2)\n",
      "Requirement already satisfied: requests in c:\\users\\vince\\anaconda3\\envs\\py311\\lib\\site-packages (from huggingface-hub->accelerate) (2.28.1)\n",
      "Requirement already satisfied: tqdm>=4.42.1 in c:\\users\\vince\\anaconda3\\envs\\py311\\lib\\site-packages (from huggingface-hub->accelerate) (4.65.0)\n",
      "Requirement already satisfied: colorama in c:\\users\\vince\\appdata\\roaming\\python\\python311\\site-packages (from tqdm>=4.42.1->huggingface-hub->accelerate) (0.4.6)\n",
      "Requirement already satisfied: MarkupSafe>=2.0 in c:\\users\\vince\\anaconda3\\envs\\py311\\lib\\site-packages (from jinja2->torch>=1.10.0->accelerate) (2.1.2)\n",
      "Requirement already satisfied: charset-normalizer<3,>=2 in c:\\users\\vince\\anaconda3\\envs\\py311\\lib\\site-packages (from requests->huggingface-hub->accelerate) (2.1.1)\n",
      "Requirement already satisfied: idna<4,>=2.5 in c:\\users\\vince\\anaconda3\\envs\\py311\\lib\\site-packages (from requests->huggingface-hub->accelerate) (3.4)\n",
      "Requirement already satisfied: urllib3<1.27,>=1.21.1 in c:\\users\\vince\\anaconda3\\envs\\py311\\lib\\site-packages (from requests->huggingface-hub->accelerate) (1.26.13)\n",
      "Requirement already satisfied: certifi>=2017.4.17 in c:\\users\\vince\\anaconda3\\envs\\py311\\lib\\site-packages (from requests->huggingface-hub->accelerate) (2022.12.7)\n",
      "Requirement already satisfied: mpmath>=0.19 in c:\\users\\vince\\anaconda3\\envs\\py311\\lib\\site-packages (from sympy->torch>=1.10.0->accelerate) (1.2.1)\n"
     ]
    }
   ],
   "source": [
    "!pip install accelerate"
   ]
  },
  {
   "cell_type": "code",
   "execution_count": 4,
   "metadata": {},
   "outputs": [
    {
     "name": "stderr",
     "output_type": "stream",
     "text": [
      "unet\\diffusion_pytorch_model.safetensors not found\n"
     ]
    },
    {
     "data": {
      "application/vnd.jupyter.widget-view+json": {
       "model_id": "a2115122735b4083935e8644c8aedf35",
       "version_major": 2,
       "version_minor": 0
      },
      "text/plain": [
       "Loading pipeline components...:   0%|          | 0/6 [00:00<?, ?it/s]"
      ]
     },
     "metadata": {},
     "output_type": "display_data"
    }
   ],
   "source": [
    "from diffusers import StableDiffusionPipeline, EulerDiscreteScheduler\n",
    "import torch\n",
    "model_id = \"stabilityai/stable-diffusion-2\"\n",
    "scheduler = EulerDiscreteScheduler.from_pretrained(model_id, subfolder=\"scheduler\")\n",
    "pipe = StableDiffusionPipeline.from_pretrained(model_id, scheduler=scheduler, torch_dtype=torch.float16)\n",
    "pipe = pipe.to(\"cuda\")\n",
    "\n",
    "# prompt = \"a photo of an astronaut riding a horse on mars\"\n",
    "# image = pipe(prompt).images[0]\n",
    "# print(type(image))"
   ]
  },
  {
   "cell_type": "code",
   "execution_count": 5,
   "metadata": {},
   "outputs": [],
   "source": [
    "# prompt = \"An image of the ancient village where Xiao Ming lived.\"\n",
    "# image = pipe(prompt).images[0]"
   ]
  },
  {
   "cell_type": "code",
   "execution_count": 6,
   "metadata": {},
   "outputs": [],
   "source": [
    "# image\n",
    "import matplotlib.pyplot as plt \n",
    "import cv2"
   ]
  },
  {
   "cell_type": "code",
   "execution_count": 7,
   "metadata": {},
   "outputs": [
    {
     "name": "stdout",
     "output_type": "stream",
     "text": [
      "['Lily, a young girl with vivid imagination, exploring the dense forest.', 'The magical stone that can talk, found inside a hidden cave.', 'Lily using her power to transform a broken bridge into a beautiful, functional one.', 'Lily transforming a barren field into a lush, blooming garden.', \"The townspeople of Echo, amazed by Lily's abilities.\", \"Lily, the 'Gardener of Echo', standing proudly with her transformed town.\"]\n"
     ]
    }
   ],
   "source": [
    "story = [\"Lily, a young girl with vivid imagination, exploring the dense forest.\",\n",
    "\"The magical stone that can talk, found inside a hidden cave.\",\n",
    "\"Lily using her power to transform a broken bridge into a beautiful, functional one.\",\n",
    "\"Lily transforming a barren field into a lush, blooming garden.\",\n",
    "\"The townspeople of Echo, amazed by Lily's abilities.\",\n",
    "\"Lily, the 'Gardener of Echo', standing proudly with her transformed town.\",\n",
    "]\n",
    "\n",
    "print(story)"
   ]
  },
  {
   "cell_type": "code",
   "execution_count": 8,
   "metadata": {},
   "outputs": [
    {
     "data": {
      "application/vnd.jupyter.widget-view+json": {
       "model_id": "a145235f613b418a991d28abaa04ff06",
       "version_major": 2,
       "version_minor": 0
      },
      "text/plain": [
       "  0%|          | 0/50 [00:00<?, ?it/s]"
      ]
     },
     "metadata": {},
     "output_type": "display_data"
    },
    {
     "data": {
      "application/vnd.jupyter.widget-view+json": {
       "model_id": "ebd4787d265c4dbd8365475e1f38f48b",
       "version_major": 2,
       "version_minor": 0
      },
      "text/plain": [
       "  0%|          | 0/50 [00:00<?, ?it/s]"
      ]
     },
     "metadata": {},
     "output_type": "display_data"
    },
    {
     "data": {
      "application/vnd.jupyter.widget-view+json": {
       "model_id": "416236becd904824add0533faa1aea58",
       "version_major": 2,
       "version_minor": 0
      },
      "text/plain": [
       "  0%|          | 0/50 [00:00<?, ?it/s]"
      ]
     },
     "metadata": {},
     "output_type": "display_data"
    },
    {
     "data": {
      "application/vnd.jupyter.widget-view+json": {
       "model_id": "f2944d83b0274fc489197e4926622354",
       "version_major": 2,
       "version_minor": 0
      },
      "text/plain": [
       "  0%|          | 0/50 [00:00<?, ?it/s]"
      ]
     },
     "metadata": {},
     "output_type": "display_data"
    },
    {
     "data": {
      "application/vnd.jupyter.widget-view+json": {
       "model_id": "15ae834fdd424c8aaeabb80650664f76",
       "version_major": 2,
       "version_minor": 0
      },
      "text/plain": [
       "  0%|          | 0/50 [00:00<?, ?it/s]"
      ]
     },
     "metadata": {},
     "output_type": "display_data"
    },
    {
     "data": {
      "application/vnd.jupyter.widget-view+json": {
       "model_id": "a8f59f9bf8324e22a3aa46479a4411a2",
       "version_major": 2,
       "version_minor": 0
      },
      "text/plain": [
       "  0%|          | 0/50 [00:00<?, ?it/s]"
      ]
     },
     "metadata": {},
     "output_type": "display_data"
    }
   ],
   "source": [
    "def make_image(line, index):\n",
    "    image_res = pipe(line).images[0]\n",
    "    torch.cuda.empty_cache()\n",
    "    \n",
    "    image_res.save(f'output_image_{index}.jpg')\n",
    "    return image_res\n",
    "\n",
    "images = [make_image(line , index) for index , line in enumerate(story)]"
   ]
  }
 ],
 "metadata": {
  "kernelspec": {
   "display_name": "py311",
   "language": "python",
   "name": "python3"
  },
  "language_info": {
   "codemirror_mode": {
    "name": "ipython",
    "version": 3
   },
   "file_extension": ".py",
   "mimetype": "text/x-python",
   "name": "python",
   "nbconvert_exporter": "python",
   "pygments_lexer": "ipython3",
   "version": "3.11.3"
  }
 },
 "nbformat": 4,
 "nbformat_minor": 2
}
